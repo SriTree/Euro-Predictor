{
 "cells": [
  {
   "cell_type": "code",
   "execution_count": 1,
   "id": "a5ce1a58-6869-4839-a040-aac64528a0b7",
   "metadata": {},
   "outputs": [],
   "source": [
    "import pandas as pd\n",
    "import re\n",
    "import numpy as np\n",
    "from sklearn.ensemble import RandomForestClassifier\n",
    "from sklearn.model_selection import train_test_split\n",
    "from sklearn.linear_model import LogisticRegression\n",
    "from sklearn.metrics import accuracy_score\n",
    "from sklearn.metrics import precision_score\n",
    "from sklearn.preprocessing import StandardScaler\n",
    "import warnings"
   ]
  },
  {
   "cell_type": "code",
   "execution_count": 2,
   "id": "9536e359-6eac-4e2a-8362-facc95970a75",
   "metadata": {},
   "outputs": [],
   "source": [
    "#importing csv files\n",
    "nations_one = pd.read_csv(\"nations_league_1.csv\", index_col=0)\n",
    "nations_two = pd.read_csv(\"nations_league_2.csv\", index_col=0)\n",
    "world_cup = pd.read_csv(\"world_cup.csv\", index_col=0)\n",
    "euro_qual = pd.read_csv(\"euro_qual.csv\", index_col=0)\n",
    "euro_2022 = pd.read_csv(\"euro_2022.csv\", index_col=0)"
   ]
  },
  {
   "cell_type": "code",
   "execution_count": 3,
   "id": "de358e40-c914-4211-ab0c-cd31eda5d798",
   "metadata": {},
   "outputs": [],
   "source": [
    "# Function to replace abbreviations with full country names\n",
    "def remove_abbreviation(opponent):\n",
    "    return opponent.split(' ', 1)[1]"
   ]
  },
  {
   "cell_type": "code",
   "execution_count": 4,
   "id": "f621dc79-095b-449a-870c-93fea4d3db45",
   "metadata": {},
   "outputs": [],
   "source": [
    "#combing all df into one combined df, cleaning up data \n",
    "combined = pd.concat([nations_one,nations_two,world_cup,euro_qual,euro_2022])\n",
    "combined['Opponent'] = combined['Opponent'].apply(remove_abbreviation)\n",
    "combined = combined[combined['Comp'] != 'Friendlies (M)']\n",
    "combined.to_csv(\"matches.csv\")"
   ]
  },
  {
   "cell_type": "code",
   "execution_count": 5,
   "id": "209186da-710f-49d3-925d-adac736932f0",
   "metadata": {},
   "outputs": [],
   "source": [
    "# Function to adjust rows where the match went to overtime and winner was determined by penalty shoot-out\n",
    "def adjust_result(row):\n",
    "    gf = row['GF']\n",
    "    ga = row['GA']\n",
    "    \n",
    "    # Check if there are parentheses in both GF and GA\n",
    "    if re.search(r'\\(\\d+\\)', gf) and re.search(r'\\(\\d+\\)', ga):\n",
    "        # Extract the numbers inside the parentheses\n",
    "        gf_shootout = int(re.search(r'\\((\\d+)\\)', gf).group(1))\n",
    "        ga_shootout = int(re.search(r'\\((\\d+)\\)', ga).group(1))\n",
    "        \n",
    "        # Adjust the result based on shootout scores\n",
    "        if gf_shootout > ga_shootout:\n",
    "            return 'W'\n",
    "        elif gf_shootout < ga_shootout:\n",
    "            return 'L'\n",
    "        else:\n",
    "            return row['Result']  # In case it's still a draw (unlikely scenario)\n",
    "    else:\n",
    "        return row['Result']"
   ]
  },
  {
   "cell_type": "code",
   "execution_count": 6,
   "id": "326f453a-2ca7-4636-9493-7d33561ab870",
   "metadata": {},
   "outputs": [],
   "source": [
    "combined['GF'] = combined['GF'].astype(str)\n",
    "combined['GA'] = combined['GA'].astype(str)\n",
    "combined['Result'] = combined.apply(adjust_result, axis=1)"
   ]
  },
  {
   "cell_type": "code",
   "execution_count": 7,
   "id": "2762d188-e967-4e41-8987-486433c5d753",
   "metadata": {},
   "outputs": [],
   "source": [
    "# Function to create weighted average for goals for and goals against for matches where winner was determined by penalty shootout\n",
    "def adjust_goals(goals):\n",
    "    # Check if there are parentheses indicating shootout scores\n",
    "    if re.search(r'\\(\\d+\\)', goals):\n",
    "        # Extract the regular and shootout goals\n",
    "        regular_goals = int(re.search(r'^\\d+', goals).group())\n",
    "        shootout_goals = int(re.search(r'\\((\\d+)\\)', goals).group(1))\n",
    "        # Calculate the adjusted goals (average or weighted average)\n",
    "        adjusted_goals = (regular_goals + shootout_goals) / 2\n",
    "        return adjusted_goals\n",
    "    else:\n",
    "        # Return the regular goals if no shootout score exists\n",
    "        return float(goals)\n"
   ]
  },
  {
   "cell_type": "code",
   "execution_count": 8,
   "id": "625f8d9e-97a4-4da9-b4ea-77f8eabcdf21",
   "metadata": {},
   "outputs": [],
   "source": [
    "combined['GF'] = combined['GF'].apply(adjust_goals)\n",
    "combined['GA'] = combined['GA'].apply(adjust_goals)"
   ]
  },
  {
   "cell_type": "code",
   "execution_count": 9,
   "id": "7b06ffd4-0a02-4393-bda7-1c89a143eb73",
   "metadata": {},
   "outputs": [
    {
     "data": {
      "text/plain": [
       "(1077, 26)"
      ]
     },
     "execution_count": 9,
     "metadata": {},
     "output_type": "execute_result"
    }
   ],
   "source": [
    "combined.shape"
   ]
  },
  {
   "cell_type": "code",
   "execution_count": 10,
   "id": "6133900b-8160-432e-b236-638bee38ca90",
   "metadata": {},
   "outputs": [],
   "source": [
    "combined.columns = combined.columns.str.lower()\n",
    "combined = combined.sort_values(by=\"date\")\n",
    "\n",
    "venue_mapping = {'Home': 1, 'Away': 2, 'Neutral': 3}\n",
    "combined['venue_num'] = combined['venue'].map(venue_mapping).astype(int)\n",
    "\n",
    "result_mapping = {'L': 1, 'D': 2, 'W': 3}\n",
    "combined = combined.dropna(subset=['result'])\n",
    "combined['target'] = combined['result'].map(result_mapping).astype(int)\n",
    "combined = combined.dropna(subset=['saves'])\n",
    "combined['saves'] = combined['saves'].astype(int)\n",
    "combined = combined.drop(columns=['xg', 'xga'])"
   ]
  },
  {
   "cell_type": "code",
   "execution_count": 11,
   "id": "b53e6db2-d169-49b5-98c9-85f45a731c8c",
   "metadata": {},
   "outputs": [],
   "source": [
    "#function to create rolling avg for stats\n",
    "def rolling_avg(group, cols, new_cols):\n",
    "    group = group.sort_values(\"date\")\n",
    "    rolling_stats = group[cols].rolling(3, closed = 'left').mean()\n",
    "    group[new_cols] = rolling_stats\n",
    "    group = group.dropna(subset = new_cols)\n",
    "    return group"
   ]
  },
  {
   "cell_type": "code",
   "execution_count": 12,
   "id": "c53426f0-6ecb-4e52-8d3c-b41c162c8f58",
   "metadata": {},
   "outputs": [
    {
     "name": "stderr",
     "output_type": "stream",
     "text": [
      "C:\\Users\\Sri\\AppData\\Local\\Temp\\ipykernel_35156\\3335518567.py:4: DeprecationWarning: DataFrameGroupBy.apply operated on the grouping columns. This behavior is deprecated, and in a future version of pandas the grouping columns will be excluded from the operation. Either pass `include_groups=False` to exclude the groupings or explicitly select the grouping columns after groupby to silence this warning.\n",
      "  combined_rolling = combined.groupby('nation').apply(lambda x: rolling_avg(x, cols, new_cols))\n"
     ]
    }
   ],
   "source": [
    "cols = [\"gf\", \"ga\", \"sh\", \"sot\", \"pk\", \"pkatt\", \"saves\", \"cs\"]\n",
    "new_cols = [f\"{c}_rolling\" for c in cols]\n",
    "\n",
    "combined_rolling = combined.groupby('nation').apply(lambda x: rolling_avg(x, cols, new_cols))\n",
    "combined_rolling = combined_rolling.droplevel('nation')\n",
    "combined_rolling = combined_rolling.sort_values(by=\"date\")"
   ]
  },
  {
   "cell_type": "code",
   "execution_count": 13,
   "id": "c9eb7b8b-3835-4677-b1d2-fa3c90543e23",
   "metadata": {},
   "outputs": [],
   "source": [
    "# Define the features to use for each team\n",
    "features = ['gf_rolling', 'ga_rolling', 'sh_rolling', 'sot_rolling', 'pk_rolling', 'pkatt_rolling', 'saves_rolling', 'cs_rolling']\n",
    "\n",
    "# Group by 'nation' and calculate the mean of the features\n",
    "team_stats_df = combined_rolling.groupby('nation')[features].mean()\n",
    "\n",
    "# Convert the DataFrame to a dictionary where each key is a nation and each value is a list of features\n",
    "team_stats = team_stats_df.apply(lambda row: row.tolist(), axis=1).to_dict()"
   ]
  },
  {
   "cell_type": "code",
   "execution_count": 14,
   "id": "81c3230d-4090-4856-b277-02cde1453aa6",
   "metadata": {},
   "outputs": [
    {
     "data": {
      "text/plain": [
       "(1009, 38)"
      ]
     },
     "execution_count": 14,
     "metadata": {},
     "output_type": "execute_result"
    }
   ],
   "source": [
    "combined_rolling['target'] = combined_rolling['result']\n",
    "combined_rolling[\"venue_code\"] = combined_rolling [\"venue\"].astype(\"category\").cat.codes\n",
    "combined_rolling[\"opp_code\"] = combined_rolling[\"opponent\"].astype(\"category\").cat.codes\n",
    "combined_rolling[\"hour\"] = combined_rolling[\"time\"].str.replace(\":.+\", \"\", regex=True).astype(\"int\")\n",
    "combined_rolling[\"date\"] = pd.to_datetime(combined_rolling[\"date\"])\n",
    "combined_rolling[\"day_code\"] = combined_rolling[\"date\"].dt.dayofweek\n",
    "\n",
    "new_features = ['venue_code', 'opp_code', 'hour', 'day_code']\n",
    "combined_rolling.shape"
   ]
  },
  {
   "cell_type": "code",
   "execution_count": 15,
   "id": "d6504c22-37e3-4edd-a3f3-e40466134bde",
   "metadata": {},
   "outputs": [],
   "source": [
    "# Splitting the dataset into training and testing sets\n",
    "np.random.seed(42)\n",
    "msk = np.random.rand(len(combined_rolling)) < 0.5\n",
    "train_df = combined_rolling[msk]\n",
    "test_df = combined_rolling[~msk]\n",
    "\n",
    "# Defining the features and target variable\n",
    "features = ['gf_rolling', 'ga_rolling', 'sh_rolling', 'sot_rolling', 'pk_rolling', 'pkatt_rolling', 'saves_rolling', 'cs_rolling',\n",
    "            'venue_code', 'opp_code', 'hour', 'day_code']\n",
    "X_train = train_df[features]\n",
    "y_train = train_df['target']\n",
    "X_test = test_df[features]\n",
    "y_test = test_df['target']"
   ]
  },
  {
   "cell_type": "code",
   "execution_count": 16,
   "id": "ade31c77-cc19-4f0c-83ad-aed6c9798d9e",
   "metadata": {},
   "outputs": [
    {
     "name": "stdout",
     "output_type": "stream",
     "text": [
      "Accuracy: 0.5337301587301587\n",
      "Precision: 0.4747903297534686\n"
     ]
    },
    {
     "name": "stderr",
     "output_type": "stream",
     "text": [
      "C:\\Python312\\Lib\\site-packages\\sklearn\\linear_model\\_logistic.py:1256: FutureWarning: 'multi_class' was deprecated in version 1.5 and will be removed in 1.7. Use OneVsRestClassifier(LogisticRegression(..)) instead. Leave it to its default value to avoid this warning.\n",
      "  warnings.warn(\n"
     ]
    }
   ],
   "source": [
    "# Training Logistic Regression model\n",
    "clf = LogisticRegression(penalty='l1', dual=False, tol=0.001, C=1.0, fit_intercept=True,\n",
    "                         intercept_scaling=1, class_weight='balanced', random_state=None,\n",
    "                         solver='liblinear', max_iter=1000, multi_class='ovr', verbose=0)\n",
    "clf.fit(X_train, np.ravel(y_train))\n",
    "\n",
    "# Making predictions\n",
    "y_pred = clf.predict(X_test)\n",
    "\n",
    "# Calculating accuracy and precision\n",
    "accuracy = accuracy_score(y_test, y_pred)\n",
    "precision = precision_score(y_test, y_pred, average='weighted')\n",
    "\n",
    "print(f'Accuracy: {accuracy}')\n",
    "print(f'Precision: {precision}')"
   ]
  },
  {
   "cell_type": "code",
   "execution_count": 17,
   "id": "22641065-6c98-495a-82f7-414babc857fd",
   "metadata": {},
   "outputs": [
    {
     "name": "stdout",
     "output_type": "stream",
     "text": [
      "Random Forest Accuracy: 0.5793650793650794\n",
      "Random Forest Precision: 0.5293528336911038\n"
     ]
    }
   ],
   "source": [
    "from sklearn.ensemble import RandomForestClassifier\n",
    "\n",
    "# Training Random Forest model with a fixed random state\n",
    "rf = RandomForestClassifier(n_estimators=100, random_state=42)\n",
    "rf.fit(X_train, np.ravel(y_train))\n",
    "\n",
    "# Making predictions\n",
    "y_pred_rf = rf.predict(X_test)\n",
    "\n",
    "# Calculating accuracy and precision for Random Forest\n",
    "accuracy_rf = accuracy_score(y_test, y_pred_rf)\n",
    "precision_rf = precision_score(y_test, y_pred_rf, average='weighted')\n",
    "\n",
    "print(f'Random Forest Accuracy: {accuracy_rf}')\n",
    "print(f'Random Forest Precision: {precision_rf}')"
   ]
  },
  {
   "cell_type": "code",
   "execution_count": null,
   "id": "46c82b15-df6b-4e37-82ed-64219f970072",
   "metadata": {},
   "outputs": [],
   "source": []
  }
 ],
 "metadata": {
  "kernelspec": {
   "display_name": "Python 3 (ipykernel)",
   "language": "python",
   "name": "python3"
  },
  "language_info": {
   "codemirror_mode": {
    "name": "ipython",
    "version": 3
   },
   "file_extension": ".py",
   "mimetype": "text/x-python",
   "name": "python",
   "nbconvert_exporter": "python",
   "pygments_lexer": "ipython3",
   "version": "3.12.3"
  }
 },
 "nbformat": 4,
 "nbformat_minor": 5
}
